{
 "cells": [
  {
   "cell_type": "code",
   "execution_count": 1,
   "id": "e3c674e6-20fd-4564-b483-be880c36a3df",
   "metadata": {},
   "outputs": [],
   "source": [
    "# Import functions\n",
    "from ultralytics.utils import SETTINGS, Path\n",
    "from ultralytics import YOLO\n",
    "from sklearn.model_selection import ParameterGrid\n",
    "import tqdm\n",
    "import os\n",
    "import fiftyone as fo\n",
    "import fiftyone.zoo as foz\n",
    "import warnings\n",
    "import textwrap\n",
    "import locale"
   ]
  },
  {
   "cell_type": "code",
   "execution_count": 2,
   "id": "169eeee3-cff3-4a00-a90e-b336931444d8",
   "metadata": {},
   "outputs": [],
   "source": [
    "# Layer freezing function\n",
    "def freeze_layer(trainer):\n",
    "    model = trainer.model\n",
    "    num_freeze = 10\n",
    "    print(f\"Freezing {num_freeze} layers\")\n",
    "    freeze = [f'model.{x}.' for x in range(num_freeze)]  # layers to freeze\n",
    "    for k, v in model.named_parameters():\n",
    "        v.requires_grad = True  # train all layers\n",
    "        if any(x in k for x in freeze):\n",
    "            print(f'freezing {k}')\n",
    "            v.requires_grad = False\n",
    "    print(f\"{num_freeze} layers are freezed.\")"
   ]
  },
  {
   "cell_type": "code",
   "execution_count": 19,
   "id": "a545be0b-dd5f-4dc2-b3c5-46db8308c686",
   "metadata": {},
   "outputs": [],
   "source": [
    "# Define hyperparameters to tune\n",
    "learning_rates = [0.001]\n",
    "batch_sizes = [24]\n",
    "optimizers = ['Adam']\n",
    "epochs = [50]\n",
    "freeze_layers = [10]"
   ]
  },
  {
   "cell_type": "code",
   "execution_count": 20,
   "id": "e610ab3e-c48c-4f5e-87d7-019863422f3b",
   "metadata": {},
   "outputs": [],
   "source": [
    "# Set up search space\n",
    "search_space = {'learning_rate': learning_rates,\n",
    "                'batch_size': batch_sizes,\n",
    "                'optimizer': optimizers,\n",
    "                'epochs': epochs,\n",
    "                'freeze_layer': freeze_layers}"
   ]
  },
  {
   "cell_type": "code",
   "execution_count": 21,
   "id": "0dd5b70b-b219-4d2b-992b-1c3bbf537259",
   "metadata": {},
   "outputs": [],
   "source": [
    "# Create parameter grid\n",
    "parameter_grid = ParameterGrid(search_space)"
   ]
  },
  {
   "cell_type": "code",
   "execution_count": 22,
   "id": "c7c05ae7-cf6f-43da-861b-dff644e8695d",
   "metadata": {},
   "outputs": [
    {
     "data": {
      "text/plain": [
       "6"
      ]
     },
     "execution_count": 22,
     "metadata": {},
     "output_type": "execute_result"
    }
   ],
   "source": [
    "# How many model combinations\n",
    "len(parameter_grid)"
   ]
  },
  {
   "cell_type": "code",
   "execution_count": 6,
   "id": "0da480d3-0962-4020-aad1-34ffc3c9afa0",
   "metadata": {},
   "outputs": [],
   "source": [
    "# Instantiate model (yolov8 small)\n",
    "model = YOLO(\"yolov8s.pt\")"
   ]
  },
  {
   "cell_type": "code",
   "execution_count": 7,
   "id": "905e0c81-677c-4c27-a51f-aee80f7e3d60",
   "metadata": {},
   "outputs": [],
   "source": [
    "# See layers of model\n",
    "# for k, v in model.named_parameters():\n",
    "#     print(k)"
   ]
  },
  {
   "cell_type": "code",
   "execution_count": 8,
   "id": "d808fce3-0406-47ee-a82a-306ca5c8c7a7",
   "metadata": {},
   "outputs": [],
   "source": [
    "# # # Freeze layers of model\n",
    "# model.add_callback(\"on_train_start\", freeze_layer)"
   ]
  },
  {
   "cell_type": "code",
   "execution_count": 9,
   "id": "c0b5b756-4419-4d0c-81c6-0f1941e61029",
   "metadata": {},
   "outputs": [
    {
     "name": "stderr",
     "output_type": "stream",
     "text": [
      "New https://pypi.org/project/ultralytics/8.0.208 available 😃 Update with 'pip install -U ultralytics'\n",
      "Ultralytics YOLOv8.0.200 🚀 Python-3.10.10 torch-2.1.0+cu121 CUDA:0 (Tesla T4, 15102MiB)\n",
      "\u001b[34m\u001b[1mengine/trainer: \u001b[0mtask=detect, mode=train, model=yolov8s.pt, data=/home/jupyter-snarain/datasets_2/dataset.yaml, epochs=50, patience=25, batch=8, imgsz=640, save=True, save_period=5, cache=False, device=None, workers=8, project=Hypertuning, name=checkpoint_model_14, exist_ok=False, pretrained=True, optimizer=Adam, verbose=True, seed=0, deterministic=True, single_cls=False, rect=False, cos_lr=False, close_mosaic=10, resume=False, amp=True, fraction=0.001, profile=False, freeze=0, overlap_mask=True, mask_ratio=4, dropout=0.0, val=True, split=val, save_json=False, save_hybrid=False, conf=None, iou=0.7, max_det=300, half=False, dnn=False, plots=True, source=None, show=False, save_txt=False, save_conf=False, save_crop=False, show_labels=True, show_conf=True, vid_stride=1, stream_buffer=False, line_width=None, visualize=False, augment=False, agnostic_nms=False, classes=None, retina_masks=False, boxes=True, format=torchscript, keras=False, optimize=False, int8=False, dynamic=False, simplify=False, opset=None, workspace=4, nms=False, lr0=0.001, lrf=0.01, momentum=0.937, weight_decay=0.0005, warmup_epochs=3.0, warmup_momentum=0.8, warmup_bias_lr=0.1, box=7.5, cls=0.5, dfl=1.5, pose=12.0, kobj=1.0, label_smoothing=0.0, nbs=64, hsv_h=0.015, hsv_s=0.7, hsv_v=0.4, degrees=0.0, translate=0.1, scale=0.5, shear=0.0, perspective=0.0, flipud=0.0, fliplr=0.5, mosaic=1.0, mixup=0.0, copy_paste=0.0, cfg=None, tracker=botsort.yaml, save_dir=Hypertuning/checkpoint_model_14\n",
      "Overriding model.yaml nc=80 with nc=61\n",
      "\n",
      "                   from  n    params  module                                       arguments                     \n",
      "  0                  -1  1       928  ultralytics.nn.modules.conv.Conv             [3, 32, 3, 2]                 \n",
      "  1                  -1  1     18560  ultralytics.nn.modules.conv.Conv             [32, 64, 3, 2]                \n",
      "  2                  -1  1     29056  ultralytics.nn.modules.block.C2f             [64, 64, 1, True]             \n",
      "  3                  -1  1     73984  ultralytics.nn.modules.conv.Conv             [64, 128, 3, 2]               \n",
      "  4                  -1  2    197632  ultralytics.nn.modules.block.C2f             [128, 128, 2, True]           \n",
      "  5                  -1  1    295424  ultralytics.nn.modules.conv.Conv             [128, 256, 3, 2]              \n",
      "  6                  -1  2    788480  ultralytics.nn.modules.block.C2f             [256, 256, 2, True]           \n",
      "  7                  -1  1   1180672  ultralytics.nn.modules.conv.Conv             [256, 512, 3, 2]              \n",
      "  8                  -1  1   1838080  ultralytics.nn.modules.block.C2f             [512, 512, 1, True]           \n",
      "  9                  -1  1    656896  ultralytics.nn.modules.block.SPPF            [512, 512, 5]                 \n",
      " 10                  -1  1         0  torch.nn.modules.upsampling.Upsample         [None, 2, 'nearest']          \n",
      " 11             [-1, 6]  1         0  ultralytics.nn.modules.conv.Concat           [1]                           \n",
      " 12                  -1  1    591360  ultralytics.nn.modules.block.C2f             [768, 256, 1]                 \n",
      " 13                  -1  1         0  torch.nn.modules.upsampling.Upsample         [None, 2, 'nearest']          \n",
      " 14             [-1, 4]  1         0  ultralytics.nn.modules.conv.Concat           [1]                           \n",
      " 15                  -1  1    148224  ultralytics.nn.modules.block.C2f             [384, 128, 1]                 \n",
      " 16                  -1  1    147712  ultralytics.nn.modules.conv.Conv             [128, 128, 3, 2]              \n",
      " 17            [-1, 12]  1         0  ultralytics.nn.modules.conv.Concat           [1]                           \n",
      " 18                  -1  1    493056  ultralytics.nn.modules.block.C2f             [384, 256, 1]                 \n",
      " 19                  -1  1    590336  ultralytics.nn.modules.conv.Conv             [256, 256, 3, 2]              \n",
      " 20             [-1, 9]  1         0  ultralytics.nn.modules.conv.Concat           [1]                           \n",
      " 21                  -1  1   1969152  ultralytics.nn.modules.block.C2f             [768, 512, 1]                 \n",
      " 22        [15, 18, 21]  1   2139655  ultralytics.nn.modules.head.Detect           [61, [128, 256, 512]]         \n",
      "Model summary: 225 layers, 11159207 parameters, 11159191 gradients, 28.8 GFLOPs\n",
      "\n",
      "Transferred 349/355 items from pretrained weights\n",
      "Freezing layer 'model.22.dfl.conv.weight'\n",
      "\u001b[34m\u001b[1mAMP: \u001b[0mrunning Automatic Mixed Precision (AMP) checks with YOLOv8n...\n",
      "\u001b[34m\u001b[1mAMP: \u001b[0mchecks passed ✅\n",
      "\u001b[34m\u001b[1mtrain: \u001b[0mScanning /home/jupyter-snarain/datasets_2/labels/train.cache... 442 images, 0 backgrounds, 0 corrupt: 100%|██████████| 442/442 [00:00<?, ?it/s]\n",
      "\u001b[34m\u001b[1mval: \u001b[0mScanning /home/jupyter-snarain/datasets_2/labels/val.cache... 11291 images, 0 backgrounds, 0 corrupt: 100%|██████████| 11291/11291 [00:00<?, ?it/s]\n",
      "Plotting labels to Hypertuning/checkpoint_model_14/labels.jpg... \n",
      "\u001b[34m\u001b[1moptimizer:\u001b[0m Adam(lr=0.001, momentum=0.937) with parameter groups 57 weight(decay=0.0), 64 weight(decay=0.0005), 63 bias(decay=0.0)\n",
      "Image sizes 640 train, 640 val\n",
      "Using 8 dataloader workers\n",
      "Logging results to \u001b[1mHypertuning/checkpoint_model_14\u001b[0m\n",
      "Starting training for 50 epochs...\n",
      "\n",
      "      Epoch    GPU_mem   box_loss   cls_loss   dfl_loss  Instances       Size\n",
      "       1/50      2.42G      1.498      3.264      1.516         15        640: 100%|██████████| 56/56 [00:09<00:00,  5.96it/s]\n",
      "                 Class     Images  Instances      Box(P          R      mAP50  mAP50-95):  14%|█▍        | 99/706 [00:13<01:21,  7.47it/s]\n",
      "\n",
      "KeyboardInterrupt\n",
      "\n"
     ]
    }
   ],
   "source": [
    "# Run training\n",
    "# results = model.train(data='/home/jupyter-snarain/datasets/open-images-v7/dataset.yaml', epochs=5, batch=8)\n",
    "# Train and evaluate the model for each combination of hyperparameters\n",
    "i = 1\n",
    "for parameters in parameter_grid:\n",
    "    # Set hyperparameters for the model\n",
    "    learning_rate = parameters['learning_rate']\n",
    "    batch_size = parameters['batch_size']\n",
    "    optimizer = parameters['optimizer']\n",
    "    num_epochs = parameters['epochs']\n",
    "    freeze_layer = parameters['freeze_layer']\n",
    "    \n",
    "    # Train and evaluate the model\n",
    "    results = model.train(data='/home/jupyter-snarain/datasets_2/dataset.yaml', lr0 = learning_rate, batch = batch_size, optimizer = optimizer, epochs = num_epochs, freeze = freeze_layer, \n",
    "                          imgsz = 640, patience = 25, save_period = 5, name = f\"checkpoint_model_{i}\", project = \"Hypertuning\", device=[0,1,2,3])\n",
    "    \n",
    "    # Save the results\n",
    "    result = {'learning_rate': learning_rate,\n",
    "              'batch_size': batch_size,\n",
    "              'optimizer': optimizer,\n",
    "              'num_epochs': num_epochs,\n",
    "              'freeze_layer': freeze_layer\n",
    "             }\n",
    "    i += 1"
   ]
  },
  {
   "cell_type": "code",
   "execution_count": null,
   "id": "631a0657-3203-43b8-88b4-1ff3e3287312",
   "metadata": {},
   "outputs": [],
   "source": [
    "# Resume training - ONLY RUN IF KERNEL DIES\n",
    "# model = YOLO(\"/home/jupyter-snarain/scripts/Hypertuning/last.pt\")\n",
    "# model.train(resume=True)"
   ]
  },
  {
   "cell_type": "code",
   "execution_count": null,
   "id": "b794ee3b-d583-4a31-b3bf-4810c53212e3",
   "metadata": {},
   "outputs": [],
   "source": [
    "# def get_instance_id():\n",
    "#     \"\"\"Get current instance ID from metadata\"\"\"\n",
    "#     url = \"http://169.254.169.254/latest/meta-data/instance-id\"\n",
    "#     response = requests.get(url)\n",
    "#     return response.text\n",
    "\n",
    "# def stop_instance(instance_id, region_name='us-east-1'):\n",
    "#     \"\"\"Stop the EC2 instance\"\"\"\n",
    "#     ec2 = boto3.client('ec2', region_name=region_name)\n",
    "#     ec2.stop_instances(InstanceIds=[instance_id])\n",
    "\n",
    "# # Get the current instance ID\n",
    "# instance_id = get_instance_id()\n",
    "\n",
    "# # Stop the instance\n",
    "# stop_instance(instance_id)"
   ]
  }
 ],
 "metadata": {
  "kernelspec": {
   "display_name": "Python 3 (ipykernel)",
   "language": "python",
   "name": "python3"
  },
  "language_info": {
   "codemirror_mode": {
    "name": "ipython",
    "version": 3
   },
   "file_extension": ".py",
   "mimetype": "text/x-python",
   "name": "python",
   "nbconvert_exporter": "python",
   "pygments_lexer": "ipython3",
   "version": "3.10.10"
  }
 },
 "nbformat": 4,
 "nbformat_minor": 5
}
